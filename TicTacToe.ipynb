{
 "cells": [
  {
   "cell_type": "code",
   "execution_count": 1,
   "id": "6826c9cb",
   "metadata": {},
   "outputs": [],
   "source": [
    "from IPython.display import clear_output\n",
    "\n",
    "def ShowBoard(listToShow, playerRef):\n",
    "\n",
    "    converted = []\n",
    "    \n",
    "    for item in listToShow:\n",
    "        if item == 0:\n",
    "            converted.append(playerRef[0])\n",
    "        elif item == 1:\n",
    "            converted.append(playerRef[1])\n",
    "        else:\n",
    "            converted.append(item)\n",
    "    \n",
    "    clear_output()\n",
    "    print(converted[0:3])\n",
    "    print(converted[3:6])\n",
    "    print(converted[6:9])\n",
    "               "
   ]
  },
  {
   "cell_type": "code",
   "execution_count": 2,
   "id": "f69cf930",
   "metadata": {},
   "outputs": [],
   "source": [
    "def errorInputRowColumn(rows_columns):\n",
    "     print(f'Please select a number from {rows_columns[0]} to {rows_columns[::-1][0]} ')"
   ]
  },
  {
   "cell_type": "code",
   "execution_count": 3,
   "id": "db6689a1",
   "metadata": {},
   "outputs": [],
   "source": [
    "def ChooseStartingPiece():\n",
    "    \n",
    "    choice = 'wrong'\n",
    "    referencesPlayer = []\n",
    "    \n",
    "    while choice.upper() != 'X' and choice.upper() != 'O':\n",
    "        \n",
    "        setPossibilities = {'X','O'}\n",
    "        choice = input(\"First Player, please type X or O to select what piece you want to be \" )\n",
    "        \n",
    "        referencesPlayer.append(choice.upper())\n",
    "        \n",
    "        second = setPossibilities.difference(choice.upper())\n",
    "        \n",
    "        for i in second:\n",
    "            referencesPlayer.append(i)\n",
    "            \n",
    "    return referencesPlayer"
   ]
  },
  {
   "cell_type": "code",
   "execution_count": 4,
   "id": "4672e01e",
   "metadata": {},
   "outputs": [],
   "source": [
    "def ChoosePlacement(player, playerRef):\n",
    "    \n",
    "    rows_columns = ['1','2','3']\n",
    "    row = 'wrong'\n",
    "    column = 'wrong'\n",
    "    \n",
    "    while  row not in rows_columns:\n",
    "        \n",
    "        row = input(f\"Select ROW where to put your {playerRef[player]} piece \") \n",
    "        \n",
    "        if row in rows_columns:\n",
    "            while  column not in rows_columns and column.upper() != 'B':\n",
    "                print('\\nPut a B if you wish to get back to select the row')\n",
    "                column = input(f\"Now the COLUMN for your {playerRef[player]} piece to be placed \") \n",
    "                \n",
    "                if column.upper() == 'B':\n",
    "                    row = 'wrong'\n",
    "                    column = 'wrong'\n",
    "                    break\n",
    "                    \n",
    "                if column not in rows_columns:\n",
    "                    errorInputRowColumn(rows_columns)\n",
    "\n",
    "        else:\n",
    "           errorInputRowColumn(rows_columns)\n",
    "        \n",
    "        \n",
    "    if row and column in rows_columns:\n",
    "        return(player,int(row),int(column))"
   ]
  },
  {
   "cell_type": "code",
   "execution_count": 5,
   "id": "b5e4a751",
   "metadata": {},
   "outputs": [],
   "source": [
    "def updateBoard(myDecision, listToUpdate):\n",
    "    \n",
    "    row = myDecision[1] -1\n",
    "    column = myDecision[2]\n",
    "    \n",
    "    #NotOverWrite\n",
    "    if listToUpdate[((row * 3) + column)-1] == '':\n",
    "        listToUpdate[((row * 3) + column)-1] = myDecision[0]\n",
    "        return listToUpdate\n",
    "    \n",
    "    else:\n",
    "        print('\\nThis cell already had a character!!, please choose another cell')\n",
    "        return False\n",
    "    \n",
    "   \n",
    "    \n",
    "    \n",
    "    "
   ]
  },
  {
   "cell_type": "code",
   "execution_count": 6,
   "id": "3d33e35a",
   "metadata": {},
   "outputs": [],
   "source": [
    "def CheckResults(listToCheck):\n",
    "    \n",
    "    #CHECK HORIZONTAL WIN\n",
    "    horizontalList = []\n",
    "    \n",
    "    n=0\n",
    "    for item in listToCheck:\n",
    "        \n",
    "        n += 1\n",
    "        \n",
    "        horizontalList.append(item)\n",
    "        \n",
    "        if n == 3:\n",
    "            if CheckWin(horizontalList):\n",
    "                return True\n",
    "                break\n",
    "            else:\n",
    "                horizontalList = []\n",
    "                n = 0\n",
    "       \n",
    "    \n",
    "    #CHEK VERTICAL WIN\n",
    "         \n",
    "    n = 0\n",
    "    while n < 3 :\n",
    "        \n",
    "        verticalList = listToCheck[n::3]\n",
    "        \n",
    "        if CheckWin(verticalList):\n",
    "            return True\n",
    "            break\n",
    "        \n",
    "        n =n+1\n",
    "    \n",
    "    \n",
    "    #CHEK DIAGONAL WIN\n",
    "    DiagonalListClockWise = [listToCheck[0],listToCheck[4],listToCheck[8]]\n",
    "    DiagonalListCounterClockWise = [listToCheck[2],listToCheck[4],listToCheck[6]]\n",
    "        \n",
    "    if CheckWin(DiagonalListClockWise) or CheckWin(DiagonalListCounterClockWise):\n",
    "        return True\n",
    "    \n",
    "    \n",
    "    \n",
    "    \n",
    "    \n",
    "    return False\n",
    "    \n",
    "def CheckWin(listToCheckWin):\n",
    "    setList = set(listToCheckWin)\n",
    "    return len(setList) == 1 and setList != {''}\n",
    "            "
   ]
  },
  {
   "cell_type": "code",
   "execution_count": 7,
   "id": "a9f2de23",
   "metadata": {},
   "outputs": [],
   "source": [
    "def ChangePlayer(p):\n",
    "    if p == 0:\n",
    "        return 1\n",
    "    else:\n",
    "        return 0"
   ]
  },
  {
   "cell_type": "code",
   "execution_count": 8,
   "id": "0585249a",
   "metadata": {},
   "outputs": [],
   "source": [
    "def Start():\n",
    "    print('Welcome to TIC TAC TOE, Grab a partner and lest start PLAYING\\n')"
   ]
  },
  {
   "cell_type": "code",
   "execution_count": 9,
   "id": "4401a27f",
   "metadata": {},
   "outputs": [],
   "source": [
    "def CheckTie(listToCheck):\n",
    "    \n",
    "    setList = set(listToCheck)\n",
    "    \n",
    "    for item in setList:\n",
    "        if item == '':\n",
    "            return False\n",
    "        else:\n",
    "            pass\n",
    "        \n",
    "    return True\n",
    "    \n",
    "    "
   ]
  },
  {
   "cell_type": "code",
   "execution_count": 10,
   "id": "e3703f17",
   "metadata": {},
   "outputs": [],
   "source": [
    "def LoopGame(playerAssings):\n",
    "    mylist = ['','','','','','','','','']\n",
    "    playerRef =  playerAssings\n",
    "    player = 1\n",
    "    draw = False\n",
    "    \n",
    "    ShowBoard(mylist, playerRef)\n",
    "    \n",
    "    while not CheckResults(mylist):\n",
    "        \n",
    "        player = ChangePlayer(player)\n",
    "            \n",
    "        if updateBoard(ChoosePlacement(player, playerRef), mylist) != False:\n",
    "            ShowBoard( mylist, playerRef)\n",
    "        else:\n",
    "            #Si ha intentado sobrescribir que vuelva jugar el mismo jugador\n",
    "            player = ChangePlayer(player)\n",
    "            \n",
    "        if CheckTie(mylist):\n",
    "            draw = True\n",
    "            break\n",
    "    \n",
    "    if draw:\n",
    "        print('\\nWow I have never seen this ferocious players on a Tic Tac Toe Game! its a DRAW!\\n')\n",
    "    else:\n",
    "        print(f'\\nCongratulations {playerRef[player]}!! You have Won this match of TIC TAC TOE\\n')\n",
    "        "
   ]
  },
  {
   "cell_type": "code",
   "execution_count": 11,
   "id": "0bba3f5b",
   "metadata": {},
   "outputs": [],
   "source": [
    "def Restart():\n",
    "    return input(\"If You want to restart please press introduce an R, if not introduce any character: \" ).upper()\n",
    "        "
   ]
  },
  {
   "cell_type": "code",
   "execution_count": 14,
   "id": "8cfff24a",
   "metadata": {},
   "outputs": [
    {
     "name": "stdout",
     "output_type": "stream",
     "text": [
      "['X', 'X', 'X']\n",
      "['', 'O', 'O']\n",
      "['', '', '']\n",
      "\n",
      "Congratulations X!! You have Won this match of TIC TAC TOE\n",
      "\n",
      "If You want to restart please press introduce an R, if not introduce any character: a\n"
     ]
    }
   ],
   "source": [
    "\n",
    "##GAME LOOP\n",
    "\n",
    "restart = 'R'\n",
    "\n",
    "while restart == 'R':\n",
    "    Start()\n",
    "    LoopGame(ChooseStartingPiece())\n",
    "    restart = Restart()\n",
    "\n",
    "\n"
   ]
  },
  {
   "cell_type": "markdown",
   "id": "251bc63c",
   "metadata": {},
   "source": [
    " "
   ]
  }
 ],
 "metadata": {
  "kernelspec": {
   "display_name": "Python 3 (ipykernel)",
   "language": "python",
   "name": "python3"
  },
  "language_info": {
   "codemirror_mode": {
    "name": "ipython",
    "version": 3
   },
   "file_extension": ".py",
   "mimetype": "text/x-python",
   "name": "python",
   "nbconvert_exporter": "python",
   "pygments_lexer": "ipython3",
   "version": "3.9.13"
  }
 },
 "nbformat": 4,
 "nbformat_minor": 5
}
